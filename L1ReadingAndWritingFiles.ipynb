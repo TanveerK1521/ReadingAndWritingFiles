{
 "cells": [
  {
   "cell_type": "markdown",
   "id": "29fd169e-2c04-4fd8-bbff-7581b1178a53",
   "metadata": {},
   "source": [
    "One way to read and write files in Python is to use buit in 'open' function.  \n",
    "The open function provides a File object that contains methods and attributes in order to read, save and manipulate the file.  \n",
    "The parameters we need is file path and file name and a mode argument."
   ]
  },
  {
   "cell_type": "code",
   "execution_count": 12,
   "id": "ab574f72-3cb1-48a0-ab4d-745d6f5a72c5",
   "metadata": {},
   "outputs": [
    {
     "data": {
      "text/plain": [
       "('example1.txt', <http.client.HTTPMessage at 0x21418e3fe10>)"
      ]
     },
     "execution_count": 12,
     "metadata": {},
     "output_type": "execute_result"
    }
   ],
   "source": [
    "import urllib.request\n",
    "url = 'https://cf-courses-data.s3.us.cloud-object-storage.appdomain.cloud/IBMDeveloperSkillsNetwork-PY0101EN-SkillsNetwork/labs/Module%204/data/example1.txt'\n",
    "filename = 'example1.txt'\n",
    "urllib.request.urlretrieve(url, filename)"
   ]
  },
  {
   "cell_type": "code",
   "execution_count": 13,
   "id": "43f791dd-e587-4cb7-9645-2e5769c0b162",
   "metadata": {},
   "outputs": [],
   "source": [
    "# We read the file \n",
    "example1 = 'example1.txt'\n",
    "file1 = open(example1,'r')"
   ]
  },
  {
   "cell_type": "code",
   "execution_count": 14,
   "id": "ca166ccc-ffbd-4059-a757-ba2bbc3dcfbb",
   "metadata": {},
   "outputs": [
    {
     "data": {
      "text/plain": [
       "'example1.txt'"
      ]
     },
     "execution_count": 14,
     "metadata": {},
     "output_type": "execute_result"
    }
   ],
   "source": [
    "#we can view attributes of the file\n",
    "file1.name"
   ]
  },
  {
   "cell_type": "code",
   "execution_count": 6,
   "id": "4febb0ad-df5a-4e89-a1d3-81f05d2791a2",
   "metadata": {},
   "outputs": [
    {
     "data": {
      "text/plain": [
       "'r'"
      ]
     },
     "execution_count": 6,
     "metadata": {},
     "output_type": "execute_result"
    }
   ],
   "source": [
    "# mode of file\n",
    "file1.mode"
   ]
  },
  {
   "cell_type": "code",
   "execution_count": 7,
   "id": "a9c8d126-8cf3-4fde-b946-95fbf5b98277",
   "metadata": {},
   "outputs": [
    {
     "data": {
      "text/plain": [
       "'This is line 1 \\nThis is line 2\\nThis is line 3'"
      ]
     },
     "execution_count": 7,
     "metadata": {},
     "output_type": "execute_result"
    }
   ],
   "source": [
    "# we can read the file and assign it to a variable\n",
    "FileContent = file1.read()\n",
    "FileContent"
   ]
  },
  {
   "cell_type": "code",
   "execution_count": 8,
   "id": "50f51810-3b58-4b82-9e4a-fb24b61d752a",
   "metadata": {},
   "outputs": [
    {
     "name": "stdout",
     "output_type": "stream",
     "text": [
      "This is line 1 \n",
      "This is line 2\n",
      "This is line 3\n"
     ]
    }
   ],
   "source": [
    "# we can print the file\n",
    "print(FileContent)"
   ]
  },
  {
   "cell_type": "code",
   "execution_count": 9,
   "id": "445e5b2b-c405-4b2a-a3f4-7c1137be937a",
   "metadata": {},
   "outputs": [
    {
     "data": {
      "text/plain": [
       "str"
      ]
     },
     "execution_count": 9,
     "metadata": {},
     "output_type": "execute_result"
    }
   ],
   "source": [
    "# Type of file content\n",
    "\n",
    "type(FileContent)"
   ]
  },
  {
   "cell_type": "code",
   "execution_count": 11,
   "id": "10782ae1-52f9-4d6c-b3c4-20d0274fe0cd",
   "metadata": {},
   "outputs": [],
   "source": [
    "# Close file after finish It is important to close the file because it ensures consistency and frees up resources\n",
    "\n",
    "file1.close()"
   ]
  },
  {
   "cell_type": "markdown",
   "id": "648c84be-3e14-47d9-8eb8-d0dab8a50392",
   "metadata": {},
   "source": [
    "Another way to read and write files in python is through 'With' statement. It closes the file automatically even if the code encounters and exception. The code will run everything in indent block and then close the file object."
   ]
  },
  {
   "cell_type": "code",
   "execution_count": 16,
   "id": "d9272487-7581-4595-b699-6141926410ef",
   "metadata": {},
   "outputs": [
    {
     "name": "stdout",
     "output_type": "stream",
     "text": [
      "This is line 1 \n",
      "This is line 2\n",
      "This is line 3\n"
     ]
    }
   ],
   "source": [
    "with open(example1,'r') as file1:\n",
    "    FileContent = file1.read()\n",
    "    print(FileContent)"
   ]
  },
  {
   "cell_type": "code",
   "execution_count": 18,
   "id": "a1a29b7d-dc8d-45da-8b81-3a379c9afc38",
   "metadata": {},
   "outputs": [
    {
     "data": {
      "text/plain": [
       "True"
      ]
     },
     "execution_count": 18,
     "metadata": {},
     "output_type": "execute_result"
    }
   ],
   "source": [
    "#The file object is closed we can verify using this line of code\n",
    "file1.closed"
   ]
  },
  {
   "cell_type": "code",
   "execution_count": 26,
   "id": "246d6edc-714d-4140-986d-6510f687f7bd",
   "metadata": {},
   "outputs": [
    {
     "name": "stdout",
     "output_type": "stream",
     "text": [
      "This is line 1 \n",
      "\n"
     ]
    }
   ],
   "source": [
    "# we can also read one line of a file using method readline\n",
    "with open(example1,'r') as file1:\n",
    "    print(file1.readline(20))"
   ]
  },
  {
   "cell_type": "code",
   "execution_count": 28,
   "id": "16081dbf-99cc-48de-b8c2-d03619b72277",
   "metadata": {},
   "outputs": [
    {
     "name": "stdout",
     "output_type": "stream",
     "text": [
      "Iteration 0 This is line 1 \n",
      "\n",
      "Iteration 1 This is line 2\n",
      "\n",
      "Iteration 2 This is line 3\n"
     ]
    }
   ],
   "source": [
    "# We can use a loop to iterate through each line\n",
    "with open(example1, 'r') as file1:\n",
    "    i = 0\n",
    "    for line in file1:\n",
    "        print('Iteration', str(i), line)\n",
    "        i = i + 1"
   ]
  },
  {
   "cell_type": "code",
   "execution_count": 29,
   "id": "0c745afd-a1b9-492c-ace8-f91f4072f0ba",
   "metadata": {},
   "outputs": [],
   "source": [
    "# We can use the method readlines to save the text file to a list\n",
    "with open(example1,'r') as file1:\n",
    "    FileAsList = file1.readlines()"
   ]
  },
  {
   "cell_type": "code",
   "execution_count": 32,
   "id": "d5784799-748c-4270-a999-6376b7085c98",
   "metadata": {},
   "outputs": [
    {
     "data": {
      "text/plain": [
       "'This is line 2\\n'"
      ]
     },
     "execution_count": 32,
     "metadata": {},
     "output_type": "execute_result"
    }
   ],
   "source": [
    "FileAsList[1]"
   ]
  },
  {
   "cell_type": "markdown",
   "id": "4a66d5ef-5c61-41ce-93a7-f9fabfcb7320",
   "metadata": {},
   "source": [
    "WRITING FILES IN PYTHON"
   ]
  },
  {
   "cell_type": "code",
   "execution_count": 66,
   "id": "76d71540-0da3-48c5-bc3c-5013b1db5592",
   "metadata": {},
   "outputs": [],
   "source": [
    "# Write line to file\n",
    "exmp2 = 'Example2.txt'\n",
    "with open(exmp2, 'w') as writefile:\n",
    "    writefile.write(\"This is line A\")"
   ]
  },
  {
   "cell_type": "code",
   "execution_count": 67,
   "id": "2e670ea2-05b1-4f9d-b5b6-dd28a867fba7",
   "metadata": {},
   "outputs": [
    {
     "name": "stdout",
     "output_type": "stream",
     "text": [
      "This is line A\n"
     ]
    }
   ],
   "source": [
    "# Read file\n",
    "\n",
    "with open(exmp2, 'r') as testwritefile:\n",
    "    print(testwritefile.read())"
   ]
  },
  {
   "cell_type": "markdown",
   "id": "b2481497-eac3-462a-b71d-f44091926d19",
   "metadata": {},
   "source": [
    "The method write overrides everything, if you do not want to override and just add text use the method append 'a'"
   ]
  },
  {
   "cell_type": "code",
   "execution_count": 68,
   "id": "66f79122-6e9d-4d75-a51d-07dc7cb5a663",
   "metadata": {},
   "outputs": [],
   "source": [
    "with open('Example2.txt', 'a') as testwritefile:\n",
    "    testwritefile.write(\"\\nThis is line C\\n\")\n",
    "    testwritefile.write(\"This is line D\\n\")\n",
    "    testwritefile.write(\"This is line E\\n\")"
   ]
  },
  {
   "cell_type": "code",
   "execution_count": 69,
   "id": "6eb79679-cc5b-4dca-8eda-f34e21e02ada",
   "metadata": {},
   "outputs": [
    {
     "name": "stdout",
     "output_type": "stream",
     "text": [
      "This is line A\n",
      "This is line C\n",
      "This is line D\n",
      "This is line E\n",
      "\n"
     ]
    }
   ],
   "source": [
    "with open('Example2.txt', 'r') as testwritefile:\n",
    "    print(testwritefile.read())\n",
    "    "
   ]
  },
  {
   "cell_type": "markdown",
   "id": "e070d8e3-00a7-47d0-8f15-6eb2be37ec87",
   "metadata": {},
   "source": [
    "Its inefficient to use these three methods differently. So here are another modes where you can apply to operations simultaniously  \n",
    "r+ = reads and writes a file.No truncation  \n",
    "w+ = writes and reads a file Truncates   \n",
    "a+ = appends and reads a file    \n",
    "\n"
   ]
  },
  {
   "cell_type": "code",
   "execution_count": 51,
   "id": "2124abea-7013-40ac-83ec-28356603c0da",
   "metadata": {},
   "outputs": [
    {
     "name": "stdout",
     "output_type": "stream",
     "text": [
      "\n"
     ]
    }
   ],
   "source": [
    "# try a+ mode\n",
    "with open('Example2', 'a+') as testwritefile:\n",
    "    testwritefile.write('\\nThis is my line\\n')\n",
    "    print(testwritefile.read())\n",
    "\n",
    "\n",
    "# Here we can see that there were no errors but read() did not output anything. This happend because of our location in the file. Most of modes work in \n",
    "# different locations. It is usefull to know where the cursor is in file and be able to control them. The following method allow us to do it:\n",
    "\n",
    "# .tell() : returns the current position in bytes\n",
    "# .seek(offset, from) : Changes the position by 'offset' bytes with respect to 'from'. From can take value of 0,1,2 coresponding to begining, relative to \n",
    "#                      current position and end.\n"
   ]
  },
  {
   "cell_type": "code",
   "execution_count": 72,
   "id": "a1b23786-3f21-4b2d-afec-9b01357270d8",
   "metadata": {},
   "outputs": [
    {
     "name": "stdout",
     "output_type": "stream",
     "text": [
      "Initial Location: 64\n",
      "Read Nothing\n",
      "New Location: 10\n",
      "ne A\n",
      "This is line C\n",
      "This is line D\n",
      "This is line E\n",
      "\n",
      "Location after read: 64\n"
     ]
    }
   ],
   "source": [
    "# now lets revisit a+\n",
    "with open('Example2.txt', 'a+') as testwritefile:\n",
    "    print('Initial Location: {}'.format(testwritefile.tell()))\n",
    "    #reading the content of file and storing it in variable data\n",
    "    data = testwritefile.read()\n",
    "    if(not data):\n",
    "        print('Read Nothing')\n",
    "    else:\n",
    "        print(testwritefile.read())\n",
    "    testwritefile.seek(10,0)\n",
    "    print('New Location: {}'.format(testwritefile.tell()))\n",
    "    data = testwritefile.read()\n",
    "    if (not data):\n",
    "        print('Read Nothing')\n",
    "    else:\n",
    "        print(data)\n",
    "    print('Location after read: {}'.format(testwritefile.tell()))    "
   ]
  },
  {
   "cell_type": "markdown",
   "id": "3b75f02a-f08a-472d-9f6a-71b8e33251df",
   "metadata": {},
   "source": [
    "COPYING A FILE"
   ]
  },
  {
   "cell_type": "code",
   "execution_count": 74,
   "id": "a636bfce-f30f-4b3f-9a97-4cc48d6623dd",
   "metadata": {},
   "outputs": [],
   "source": [
    "#Lets copy Example2 to another file Example3\n",
    "with open('Example2.txt','r') as readfile:\n",
    "    with open('Example3.txt','w') as writefile:\n",
    "        for line in readfile:\n",
    "            writefile.write(line)\n",
    "            "
   ]
  },
  {
   "cell_type": "code",
   "execution_count": 78,
   "id": "1df4fba4-4bc7-4f3d-85fe-0efbfdbf4266",
   "metadata": {},
   "outputs": [
    {
     "name": "stdout",
     "output_type": "stream",
     "text": [
      "This is line A\n",
      "This is line C\n",
      "This is line D\n",
      "This is line E\n",
      "\n"
     ]
    }
   ],
   "source": [
    "#Now lets verify\n",
    "with open('Example3.txt','r') as writefile:\n",
    "    print(writefile.read())\n",
    "    "
   ]
  },
  {
   "cell_type": "markdown",
   "id": "2be655b3-224c-4fbc-a02c-71c41ba6e3e2",
   "metadata": {},
   "source": [
    "### EXERCISE  \n",
    "A university Raptors fan club maintains a txt file of its active members. Every month they update the file by removing the members who are not active. We will be automating this with Python.  \n",
    "Given the file CurrentMen, remove members with 'no' in the active column.  \n",
    "Keep track of each of removed member and append it to ExMem file.  \n",
    "Make sure format of original file is preserved  \n"
   ]
  },
  {
   "cell_type": "code",
   "execution_count": 97,
   "id": "56ef69a4-258d-4409-9f4d-e750e1e74c2e",
   "metadata": {},
   "outputs": [],
   "source": [
    "from random import randint as rnd\n",
    "\n",
    "memReg = 'members.txt'\n",
    "exReg = 'inactive.txt'\n",
    "fee =('yes','no')\n",
    "\n",
    "def genFiles(current,old):\n",
    "    with open(current,'w+') as writefile: \n",
    "        writefile.write('Membership No  Date Joined  Active  \\n')\n",
    "        data = \"{:^13}  {:<11}  {:<6}\\n\"\n",
    "\n",
    "        for rowno in range(20):\n",
    "            date = str(rnd(2015,2020))+ '-' + str(rnd(1,12))+'-'+str(rnd(1,25))\n",
    "            writefile.write(data.format(rnd(10000,99999),date,fee[rnd(0,1)]))\n",
    "\n",
    "\n",
    "    with open(old,'w+') as writefile: \n",
    "        writefile.write('Membership No  Date Joined  Active  \\n')\n",
    "        data = \"{:^13}  {:<11}  {:<6}\\n\"\n",
    "        for rowno in range(3):\n",
    "            date = str(rnd(2015,2020))+ '-' + str(rnd(1,12))+'-'+str(rnd(1,25))\n",
    "            writefile.write(data.format(rnd(10000,99999),date,fee[1]))\n",
    "\n",
    "\n",
    "genFiles(memReg,exReg)"
   ]
  },
  {
   "cell_type": "code",
   "execution_count": 102,
   "id": "44b32ff7-6df9-4b7f-8fd0-92d5c682fda1",
   "metadata": {
    "scrolled": true
   },
   "outputs": [
    {
     "name": "stdout",
     "output_type": "stream",
     "text": [
      "Active Members: \n",
      "\n",
      "\n",
      "Membership No  Date Joined  Active  \n",
      "    20172      2018-10-13   yes   \n",
      "    14812      2020-2-24    yes   \n",
      "    90881      2017-6-24    yes   \n",
      "    62722      2017-1-13    yes   \n",
      "    61193      2019-2-2     yes   \n",
      "    92107      2020-8-23    yes   \n",
      "    92186      2017-1-13    yes   \n",
      "    26438      2015-8-11    yes   \n",
      "    99941      2019-3-14    yes   \n",
      "\n",
      "Inactive Members: \n",
      "\n",
      "\n",
      "Membership No  Date Joined  Active  \n",
      "    94938      2019-12-19   no    \n",
      "    34428      2018-12-16   no    \n",
      "    43052      2018-5-8     no    \n",
      "    57288      2015-10-23   no    \n",
      "    92396      2020-5-6     no    \n",
      "    21044      2017-6-9     no    \n",
      "    11701      2015-8-11    no    \n",
      "    31298      2015-10-8    no    \n",
      "    11060      2020-3-6     no    \n",
      "    56908      2019-1-10    no    \n",
      "    75325      2015-4-22    no    \n",
      "    47064      2020-1-24    no    \n",
      "    90839      2019-3-19    no    \n",
      "    30234      2020-4-15    no    \n",
      "\n"
     ]
    }
   ],
   "source": [
    "# Now that our two files are ready lets implement the work\n",
    "\n",
    "def cleanFiles(currentMem,exMem):\n",
    "    with open(currentMem,'r+') as writeFile: \n",
    "        with open(exMem,'a+') as appendFile:\n",
    "            #get the data\n",
    "            writeFile.seek(0)\n",
    "            members = writeFile.readlines()\n",
    "            #remove header\n",
    "            header = members[0]\n",
    "            members.pop(0)\n",
    "                \n",
    "            inactive = [member for member in members if ('no' in member)]\n",
    "            '''\n",
    "            The above is the same as \n",
    "\n",
    "            for member in members:\n",
    "            if 'no' in member:\n",
    "                inactive.append(member)\n",
    "            '''\n",
    "            #go to the beginning of the write file\n",
    "            writeFile.seek(0) \n",
    "            writeFile.write(header)\n",
    "            for member in members:\n",
    "                if (member in inactive):\n",
    "                    appendFile.write(member)\n",
    "                else:\n",
    "                    writeFile.write(member)      \n",
    "            writeFile.truncate()\n",
    "                \n",
    "memReg = 'members.txt'\n",
    "exReg = 'inactive.txt'\n",
    "cleanFiles(memReg,exReg)\n",
    "\n",
    "# code to see the files\n",
    "\n",
    "headers = \"Membership No  Date Joined  Active  \\n\"\n",
    "\n",
    "with open(memReg,'r') as readFile:\n",
    "    print(\"Active Members: \\n\\n\")\n",
    "    print(readFile.read())\n",
    "    \n",
    "with open(exReg,'r') as readFile:\n",
    "    print(\"Inactive Members: \\n\\n\")\n",
    "    print(readFile.read())\n",
    "        "
   ]
  },
  {
   "cell_type": "code",
   "execution_count": null,
   "id": "5e2e7cf4-2f66-468b-86a6-a14773a7a19a",
   "metadata": {},
   "outputs": [],
   "source": []
  },
  {
   "cell_type": "code",
   "execution_count": null,
   "id": "787e8003-14e5-46be-8a85-2683efa20c29",
   "metadata": {},
   "outputs": [],
   "source": []
  },
  {
   "cell_type": "code",
   "execution_count": null,
   "id": "80a43e42-4517-4ca0-ba9c-0fd76ea35c95",
   "metadata": {},
   "outputs": [],
   "source": []
  },
  {
   "cell_type": "code",
   "execution_count": null,
   "id": "e23c73e2-19c6-446d-9e98-abed1ed19d5a",
   "metadata": {},
   "outputs": [],
   "source": []
  },
  {
   "cell_type": "code",
   "execution_count": null,
   "id": "8e21ccff-3454-4486-9cc7-bc44fb98cec4",
   "metadata": {},
   "outputs": [],
   "source": []
  },
  {
   "cell_type": "code",
   "execution_count": null,
   "id": "b5295cb1-7c09-4048-b4a3-5dd7af008fe4",
   "metadata": {},
   "outputs": [],
   "source": []
  },
  {
   "cell_type": "code",
   "execution_count": null,
   "id": "7a5aed0f-274a-4583-824a-b274680c3aaa",
   "metadata": {},
   "outputs": [],
   "source": []
  },
  {
   "cell_type": "code",
   "execution_count": null,
   "id": "eac05f0b-b921-4bce-af06-cd159cf20b94",
   "metadata": {},
   "outputs": [],
   "source": []
  },
  {
   "cell_type": "code",
   "execution_count": null,
   "id": "06f326a7-f409-4403-b687-dd7e458869ad",
   "metadata": {},
   "outputs": [],
   "source": []
  },
  {
   "cell_type": "code",
   "execution_count": null,
   "id": "e1e4d76a-ba6e-4385-93f2-ade70497eb44",
   "metadata": {},
   "outputs": [],
   "source": []
  },
  {
   "cell_type": "code",
   "execution_count": null,
   "id": "bd973360-d544-4371-8a12-818401b4eaa1",
   "metadata": {},
   "outputs": [],
   "source": []
  },
  {
   "cell_type": "code",
   "execution_count": null,
   "id": "cd5ab93f-bdc6-4b11-a33c-c22dfdc3e5fc",
   "metadata": {},
   "outputs": [],
   "source": []
  },
  {
   "cell_type": "code",
   "execution_count": null,
   "id": "e9c2c1fa-1045-44d4-b385-5bc19ffcb1bd",
   "metadata": {},
   "outputs": [],
   "source": []
  }
 ],
 "metadata": {
  "kernelspec": {
   "display_name": "Python 3 (ipykernel)",
   "language": "python",
   "name": "python3"
  },
  "language_info": {
   "codemirror_mode": {
    "name": "ipython",
    "version": 3
   },
   "file_extension": ".py",
   "mimetype": "text/x-python",
   "name": "python",
   "nbconvert_exporter": "python",
   "pygments_lexer": "ipython3",
   "version": "3.11.5"
  }
 },
 "nbformat": 4,
 "nbformat_minor": 5
}
